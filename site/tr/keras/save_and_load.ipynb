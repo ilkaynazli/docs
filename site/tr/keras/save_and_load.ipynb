{
  "nbformat": 4,
  "nbformat_minor": 0,
  "metadata": {
    "colab": {
      "name": "save_and_load.ipynb",
      "version": "0.3.2",
      "provenance": [],
      "private_outputs": true,
      "collapsed_sections": [],
      "toc_visible": true
    },
    "kernelspec": {
      "display_name": "Python 3",
      "name": "python3"
    },
    "accelerator": "GPU"
  },
  "cells": [
    {
      "cell_type": "markdown",
      "metadata": {
        "colab_type": "text",
        "id": "g_nWetWWd_ns"
      },
      "source": [
        "##### Copyright 2019 The TensorFlow Authors."
      ]
    },
    {
      "cell_type": "code",
      "metadata": {
        "cellView": "form",
        "colab_type": "code",
        "id": "2pHVBk_seED1",
        "colab": {}
      },
      "source": [
        "#@title Licensed under the Apache License, Version 2.0 (the \"License\");\n",
        "# you may not use this file except in compliance with the License.\n",
        "# You may obtain a copy of the License at\n",
        "#\n",
        "# https://www.apache.org/licenses/LICENSE-2.0\n",
        "#\n",
        "# Unless required by applicable law or agreed to in writing, software\n",
        "# distributed under the License is distributed on an \"AS IS\" BASIS,\n",
        "# WITHOUT WARRANTIES OR CONDITIONS OF ANY KIND, either express or implied.\n",
        "# See the License for the specific language governing permissions and\n",
        "# limitations under the License."
      ],
      "execution_count": 0,
      "outputs": []
    },
    {
      "cell_type": "code",
      "metadata": {
        "cellView": "form",
        "colab_type": "code",
        "id": "N_fMsQ-N8I7j",
        "colab": {}
      },
      "source": [
        "#@title MIT License\n",
        "#\n",
        "# Copyright (c) 2017 François Chollet\n",
        "#\n",
        "# Permission is hereby granted, free of charge, to any person obtaining a\n",
        "# copy of this software and associated documentation files (the \"Software\"),\n",
        "# to deal in the Software without restriction, including without limitation\n",
        "# the rights to use, copy, modify, merge, publish, distribute, sublicense,\n",
        "# and/or sell copies of the Software, and to permit persons to whom the\n",
        "# Software is furnished to do so, subject to the following conditions:\n",
        "#\n",
        "# The above copyright notice and this permission notice shall be included in\n",
        "# all copies or substantial portions of the Software.\n",
        "#\n",
        "# THE SOFTWARE IS PROVIDED \"AS IS\", WITHOUT WARRANTY OF ANY KIND, EXPRESS OR\n",
        "# IMPLIED, INCLUDING BUT NOT LIMITED TO THE WARRANTIES OF MERCHANTABILITY,\n",
        "# FITNESS FOR A PARTICULAR PURPOSE AND NONINFRINGEMENT. IN NO EVENT SHALL\n",
        "# THE AUTHORS OR COPYRIGHT HOLDERS BE LIABLE FOR ANY CLAIM, DAMAGES OR OTHER\n",
        "# LIABILITY, WHETHER IN AN ACTION OF CONTRACT, TORT OR OTHERWISE, ARISING\n",
        "# FROM, OUT OF OR IN CONNECTION WITH THE SOFTWARE OR THE USE OR OTHER\n",
        "# DEALINGS IN THE SOFTWARE."
      ],
      "execution_count": 0,
      "outputs": []
    },
    {
      "cell_type": "markdown",
      "metadata": {
        "colab_type": "text",
        "id": "pZJ3uY9O17VN"
      },
      "source": [
        "# Modellerin kaydedilmesi ve yuklenmesi"
      ]
    },
    {
      "cell_type": "markdown",
      "metadata": {
        "colab_type": "text",
        "id": "M4Ata7_wMul1"
      },
      "source": [
        "<table class=\"tfo-notebook-buttons\" align=\"left\">\n",
        "  <td>\n",
        "    <a target=\"_blank\" href=\"https://www.tensorflow.org/tutorials/keras/save_and_load\"><img src=\"https://www.tensorflow.org/images/tf_logo_32px.png\" />View on TensorFlow.org</a>\n",
        "  </td>\n",
        "  <td>\n",
        "    <a target=\"_blank\" href=\"https://colab.research.google.com/github/tensorflow/docs/blob/master/site/en/tutorials/keras/save_and_load.ipynb\"><img src=\"https://www.tensorflow.org/images/colab_logo_32px.png\" />Run in Google Colab</a>\n",
        "  </td>\n",
        "  <td>\n",
        "    <a target=\"_blank\" href=\"https://github.com/tensorflow/docs/blob/master/site/en/tutorials/keras/save_and_load.ipynb\"><img src=\"https://www.tensorflow.org/images/GitHub-Mark-32px.png\" />View source on GitHub</a>\n",
        "  </td>\n",
        "  <td>\n",
        "    <a href=\"https://storage.googleapis.com/tensorflow_docs/docs/site/en/tutorials/keras/save_and_load.ipynb\"><img src=\"https://www.tensorflow.org/images/download_logo_32px.png\" />Download notebook</a>\n",
        "  </td>\n",
        "</table>"
      ]
    },
    {
      "cell_type": "markdown",
      "metadata": {
        "colab_type": "text",
        "id": "mBdde4YJeJKF"
      },
      "source": [
        "Modelimizin gelisimini egitim sirasinda ya da sonrasinda kaydedebiliriz. Bu sayede model egitimine kaldigi yerden devam edebilir ve uzun suren egitimleri bolebiliriz. Ayrica kaydettigimiz modelimizi baskalari ile paylasarak calismamizin tekrarlanmasini saglamamiz kolaylasir. Makine ogrenmesi calisanlar, arastirma modellerini ve tekniklerini yayimlarken sunlari paylasirlar:\n",
        "\n",
        "* modeli yeniden yaratacak kod ve\n",
        "* modelin egitildigi agirliklar ve degistirgeler\n",
        "\n",
        "Bu bilgilerin paylasilmasi modelin nasil calistiginin anlasilmasina ve yeni verilerle kullanilmasina yardimci olur.\n",
        "\n",
        "Dikkat: guvenilmeyen kodlara dikkat edin—TensorFlow modelleri kodtur. TensorFlow'u guvenli kullanmak icin [buraya bakiniz](https://github.com/tensorflow/tensorflow/blob/master/SECURITY.md).\n",
        "\n",
        "### Secenekler\n",
        "\n",
        "Kullandiginiz API'ya gore TensorFlow modellerini kaydetmek icin cesitli yontemler vardir. Bu kitapcikta yuksek-seviye API olan [tf.keras](https://www.tensorflow.org/guide/keras) kullanarak TensorFlow'da modelleri olusturup egitiyoruz. Diger yontemler icin lutfen TensorFlow [Save and Restore](https://www.tensorflow.org/guide/saved_model) ya da [Saving in eager](https://www.tensorflow.org/guide/eager#object-based_saving) kilavuzlarina bakabilirsiniz."
      ]
    },
    {
      "cell_type": "markdown",
      "metadata": {
        "colab_type": "text",
        "id": "xCUREq7WXgvg"
      },
      "source": [
        "## Kurulum\n",
        "\n",
        "### Yuklemeler ve iceri aktarimlar"
      ]
    },
    {
      "cell_type": "markdown",
      "metadata": {
        "colab_type": "text",
        "id": "7l0MiTOrXtNv"
      },
      "source": [
        "TensorFlow ve bagimliliklari yukleyelim ve iceri aktaralim:"
      ]
    },
    {
      "cell_type": "code",
      "metadata": {
        "colab_type": "code",
        "id": "RzIOVSdnMYyO",
        "colab": {}
      },
      "source": [
        "try:\n",
        "  # %tensorflow_version only exists in Colab.\n",
        "  %tensorflow_version 2.x\n",
        "except Exception:\n",
        "  pass\n",
        "\n",
        "!pip install pyyaml h5py  # Modelleri HDF5 biciminde kaydetmek icin gereklidir"
      ],
      "execution_count": 0,
      "outputs": []
    },
    {
      "cell_type": "code",
      "metadata": {
        "colab_type": "code",
        "id": "7Nm7Tyb-gRt-",
        "colab": {}
      },
      "source": [
        "from __future__ import absolute_import, division, print_function, unicode_literals\n",
        "\n",
        "import os\n",
        "\n",
        "import tensorflow as tf\n",
        "from tensorflow import keras\n",
        "\n",
        "print(tf.version.VERSION)"
      ],
      "execution_count": 0,
      "outputs": []
    },
    {
      "cell_type": "markdown",
      "metadata": {
        "colab_type": "text",
        "id": "SbGsznErXWt6"
      },
      "source": [
        "### Ornek veri seti alalim\n",
        "\n",
        "[MNIST veri setini](http://yann.lecun.com/exdb/mnist/) kullanarak agirliklari nasil kaydedebilecegimizi ve yukleyecegimizi gorelim. Islemi biraz hizlandirmak icin ilk 1000 ornegi kullanalim:"
      ]
    },
    {
      "cell_type": "code",
      "metadata": {
        "colab_type": "code",
        "id": "9rGfFwE9XVwz",
        "colab": {}
      },
      "source": [
        "(train_images, train_labels), (test_images, test_labels) = tf.keras.datasets.mnist.load_data()\n",
        "\n",
        "train_labels = train_labels[:1000]\n",
        "test_labels = test_labels[:1000]\n",
        "\n",
        "train_images = train_images[:1000].reshape(-1, 28 * 28) / 255.0\n",
        "test_images = test_images[:1000].reshape(-1, 28 * 28) / 255.0"
      ],
      "execution_count": 0,
      "outputs": []
    },
    {
      "cell_type": "markdown",
      "metadata": {
        "colab_type": "text",
        "id": "anG3iVoXyZGI"
      },
      "source": [
        "### Modeli tanimlayalim"
      ]
    },
    {
      "cell_type": "markdown",
      "metadata": {
        "colab_type": "text",
        "id": "wynsOBfby0Pa"
      },
      "source": [
        "Basit bir sequential (sirali) model olusturarak baslayalim:"
      ]
    },
    {
      "cell_type": "code",
      "metadata": {
        "colab_type": "code",
        "id": "0HZbJIjxyX1S",
        "colab": {}
      },
      "source": [
        "# Basit sirali modelimizi tanimlayayim\n",
        "def create_model():\n",
        "  model = tf.keras.models.Sequential([\n",
        "    keras.layers.Dense(512, activation='relu', input_shape=(784,)),\n",
        "    keras.layers.Dropout(0.2),\n",
        "    keras.layers.Dense(10, activation='softmax')\n",
        "  ])\n",
        "\n",
        "  model.compile(optimizer='adam',\n",
        "                loss='sparse_categorical_crossentropy',\n",
        "                metrics=['accuracy'])\n",
        "\n",
        "  return model\n",
        "\n",
        "# Basit modelimizi olusturalim\n",
        "model = create_model()\n",
        "\n",
        "# Modelimizin yapisini gosterelim \n",
        "model.summary()"
      ],
      "execution_count": 0,
      "outputs": []
    },
    {
      "cell_type": "markdown",
      "metadata": {
        "colab_type": "text",
        "id": "soDE0W_KH8rG"
      },
      "source": [
        "## Egitim sirasinda denetim noktalarin kaydedelim"
      ]
    },
    {
      "cell_type": "markdown",
      "metadata": {
        "colab_type": "text",
        "id": "mRyd5qQQIXZm"
      },
      "source": [
        "Egitilmis bir modeli tekrar tekrar kullanabiliriz ya da egitim herhangibir sebebten yarim kaldiysa kaldigimiz yerden devam edebiliriz. Modelimizi egitim *sirasinda* ve egitim *sonunda* `tf.keras.callbacks.ModelCheckpoint` geri cagrimasini kullanarak surekli kaydedebiliriz.\n",
        "\n",
        "### Denetim noktasi geri cagirmasinin kullanimi\n",
        "\n",
        "Sadece egitim sirasinda agirliklari kaydeden bir `tf.keras.callbacks.ModelCheckpoint` geri cagirmasini olusturalim:"
      ]
    },
    {
      "cell_type": "code",
      "metadata": {
        "colab_type": "code",
        "id": "IFPuhwntH8VH",
        "colab": {}
      },
      "source": [
        "checkpoint_path = \"training_1/cp.ckpt\"\n",
        "checkpoint_dir = os.path.dirname(checkpoint_path)\n",
        "\n",
        "# Modelin agirliklarini kaydeden bir geri cagirma olusturalim\n",
        "cp_callback = tf.keras.callbacks.ModelCheckpoint(filepath=checkpoint_path,\n",
        "                                                 save_weights_only=True,\n",
        "                                                 verbose=1)\n",
        "\n",
        "# Modelimizi yeni geri cagirma ile egitelim\n",
        "model.fit(train_images, \n",
        "          train_labels,  \n",
        "          epochs=10,\n",
        "          validation_data=(test_images,test_labels),\n",
        "          callbacks=[cp_callback])  # Pass callback to training\n",
        "\n",
        "# Bu asamada en iyilestiricinin durumunun kaydedilmesi ile ilgili bir uyari gorebilirsiniz.\n",
        "# Bu ve bunun gibi uyarilar geri kalmis kullanimlari onlemek icin konulmustur ve goz ardi edilebilir."
      ],
      "execution_count": 0,
      "outputs": []
    },
    {
      "cell_type": "markdown",
      "metadata": {
        "colab_type": "text",
        "id": "rlM-sgyJO084"
      },
      "source": [
        "Her devrin sonunda guncellenen TensorFlow denetim noktalari dosyalarini bir yerde toplayalim:"
      ]
    },
    {
      "cell_type": "code",
      "metadata": {
        "colab_type": "code",
        "id": "gXG5FVKFOVQ3",
        "colab": {}
      },
      "source": [
        "!ls {checkpoint_dir}"
      ],
      "execution_count": 0,
      "outputs": []
    },
    {
      "cell_type": "markdown",
      "metadata": {
        "colab_type": "text",
        "id": "wlRN_f56Pqa9"
      },
      "source": [
        "Yeni egitilmemis bir model olusturalim. Bir modeli sadece varolan agirliklardan yeniden olusturmak icin agirliklarin alindigi model ile ayni yapida bir model kullanmamiz gerekir. Ayni model yapisini kullandigimiz icin modelin farkli *olusumu* olmasina ragmen agirliklari rahatlikla kullanabiliriz.\n",
        "\n",
        "Simdi yeni, egitilmemis bir modeli yeniden olusturalim ve test setinde degerlendirelim. Egitilmemis bir model sansa dayali sonuclar (yaklasik %10 dogrulukla) verecektir:"
      ]
    },
    {
      "cell_type": "code",
      "metadata": {
        "colab_type": "code",
        "id": "Fp5gbuiaPqCT",
        "colab": {}
      },
      "source": [
        "# Basir bir model olusturalim\n",
        "model = create_model()\n",
        "\n",
        "# Modeli degerlendirelim\n",
        "loss, acc = model.evaluate(test_images, test_labels)\n",
        "print(\"Untrained model, accuracy: {:5.2f}%\".format(100*acc))"
      ],
      "execution_count": 0,
      "outputs": []
    },
    {
      "cell_type": "markdown",
      "metadata": {
        "colab_type": "text",
        "id": "1DTKpZssRSo3"
      },
      "source": [
        "Simdi de denetim noktalarindan aldigimiz agirliklari yukleyelim ve yeniden degerlendirelim:"
      ]
    },
    {
      "cell_type": "code",
      "metadata": {
        "colab_type": "code",
        "id": "2IZxbwiRRSD2",
        "colab": {}
      },
      "source": [
        "# Agirliklari yukleyelim\n",
        "model.load_weights(checkpoint_path)\n",
        "\n",
        "# Modeli yeniden degerlendirelim\n",
        "loss,acc = model.evaluate(test_images, test_labels)\n",
        "print(\"Restored model, accuracy: {:5.2f}%\".format(100*acc))"
      ],
      "execution_count": 0,
      "outputs": []
    },
    {
      "cell_type": "markdown",
      "metadata": {
        "colab_type": "text",
        "id": "bpAbKkAyVPV8"
      },
      "source": [
        "### Denetim noktari geri cagirma secenekleri\n",
        "\n",
        "Geri cagirma yontemi denetim noktalari icin ozgun isimler verme ve denetim noktasi yogunlugunu ayarlama gibi bircok secenek onerir.\n",
        "\n",
        "Yeni modelimizi egitelim ve ozgunce isimlendirilmis denetim noktalarimizi her bes devirde bir kaydedelim:"
      ]
    },
    {
      "cell_type": "code",
      "metadata": {
        "colab_type": "code",
        "id": "mQF_dlgIVOvq",
        "colab": {}
      },
      "source": [
        "# Dosya ismine devir sayisini ekleyelim (`str.format` kullanilir)\n",
        "checkpoint_path = \"training_2/cp-{epoch:04d}.ckpt\"\n",
        "checkpoint_dir = os.path.dirname(checkpoint_path)\n",
        "\n",
        "# Her 5 devirde bir modelin agirliklarini kaydeden bir geri cagirma olusturalim\n",
        "cp_callback = tf.keras.callbacks.ModelCheckpoint(\n",
        "    filepath=checkpoint_path, \n",
        "    verbose=1, \n",
        "    save_weights_only=True,\n",
        "    period=5)\n",
        "\n",
        "# Yeni bir model olusturalim\n",
        "model = create_model()\n",
        "\n",
        "# `checkpoint_path` bicimini kullanarak agirliklari kaydedelim\n",
        "model.save_weights(checkpoint_path.format(epoch=0))\n",
        "\n",
        "# Modeli yeni geri cagirma ile egitelim\n",
        "model.fit(train_images, \n",
        "              train_labels,\n",
        "              epochs=50, \n",
        "              callbacks=[cp_callback],\n",
        "              validation_data=(test_images,test_labels),\n",
        "              verbose=0)"
      ],
      "execution_count": 0,
      "outputs": []
    },
    {
      "cell_type": "markdown",
      "metadata": {
        "colab_type": "text",
        "id": "1zFrKTjjavWI"
      },
      "source": [
        "Simdi elde edilen denetim noktalarina bakalim ve en sonuncusunu secelim:"
      ]
    },
    {
      "cell_type": "code",
      "metadata": {
        "colab_type": "code",
        "id": "p64q3-V4sXt0",
        "colab": {}
      },
      "source": [
        "! ls {checkpoint_dir}"
      ],
      "execution_count": 0,
      "outputs": []
    },
    {
      "cell_type": "code",
      "metadata": {
        "colab_type": "code",
        "id": "1AN_fnuyR41H",
        "colab": {}
      },
      "source": [
        "latest = tf.train.latest_checkpoint(checkpoint_dir)\n",
        "latest"
      ],
      "execution_count": 0,
      "outputs": []
    },
    {
      "cell_type": "markdown",
      "metadata": {
        "colab_type": "text",
        "id": "Zk2ciGbKg561"
      },
      "source": [
        "Not: varsayilan TensorFlow bicimi sadece son 5 denetim noktasini kaydeder.\n",
        "\n",
        "Test etmek icin modeli sifirlayalim ve sonuncu denetim noktasini yukleyelim:"
      ]
    },
    {
      "cell_type": "code",
      "metadata": {
        "colab_type": "code",
        "id": "3M04jyK-H3QK",
        "colab": {}
      },
      "source": [
        "# Yeni bir model olusturalim\n",
        "model = create_model()\n",
        "\n",
        "# Daha onceden kaydedilen agirliklari yukleyelim\n",
        "model.load_weights(latest)\n",
        "\n",
        "# Modeli yeniden degerlendirelime\n",
        "loss, acc = model.evaluate(test_images, test_labels)\n",
        "print(\"Restored model, accuracy: {:5.2f}%\".format(100*acc))"
      ],
      "execution_count": 0,
      "outputs": []
    },
    {
      "cell_type": "markdown",
      "metadata": {
        "colab_type": "text",
        "id": "c2OxsJOTHxia"
      },
      "source": [
        "## Bu dosyalar neler?"
      ]
    },
    {
      "cell_type": "markdown",
      "metadata": {
        "colab_type": "text",
        "id": "JtdYhvWnH2ib"
      },
      "source": [
        "Yukaridaki kod ile agirliklari [denetim noktalari](https://www.tensorflow.org/guide/saved_model#save_and_restore_variables) toplamina kaydediyoruz-bu dosyalar sadece egitim agirliklarini ikili bicimde saklar. Denetim noktalarinda sunlar bulunur:\n",
        "* Modelinizin agirliklarini bulunduran bir ya da daha fazla parca.\n",
        "* Hangi agirligin hangi parcada kaydedildigini belirten bir dizin dosyasi.\n",
        "\n",
        "Eger modelinizi sadece bir makinede egitiyorsaniz, `.data-00000-of-00001` son ekine sahip bir parcaniz olacaktir."
      ]
    },
    {
      "cell_type": "markdown",
      "metadata": {
        "colab_type": "text",
        "id": "S_FA-ZvxuXQV"
      },
      "source": [
        "## Agirliklari el ile kaydedelim\n",
        "\n",
        "Agirliklari modelimize nasil yukleyebilecegimizi gorduk. El ile kaydetmek de `Model.save_weights` yontemi ile yuklemek kadar kolay. Varsayilan ayarlarda, `tf.keras`-ve ozellikle `save_weights`— TensorFlow [denetim noktalari](../../guide/keras/checkpoints) bicimini `.ckpt` uzatmasi ile kaydeder ([HDF5](https://js.tensorflow.org/tutorials/import-keras.html) biciminde `.h5` uzatmasi ile kaydetmeyi [Modelleri kaydedin ve dizisellestirin](../../guide/keras/saving_and_serializing#weights-only_saving_in_savedmodel_format) kilavuzunda bulabilirsiniz):"
      ]
    },
    {
      "cell_type": "code",
      "metadata": {
        "colab_type": "code",
        "id": "R7W5plyZ-u9X",
        "colab": {}
      },
      "source": [
        "# Agirliklari kaydedelim\n",
        "model.save_weights('./checkpoints/my_checkpoint')\n",
        "\n",
        "# Yeni modelimizi olusturalim\n",
        "model = create_model()\n",
        "\n",
        "# Agirliklari yeniden yukleyelim\n",
        "model.load_weights('./checkpoints/my_checkpoint')\n",
        "\n",
        "# Modeli degerlendirelim\n",
        "loss,acc = model.evaluate(test_images, test_labels)\n",
        "print(\"Restored model, accuracy: {:5.2f}%\".format(100*acc))"
      ],
      "execution_count": 0,
      "outputs": []
    },
    {
      "cell_type": "markdown",
      "metadata": {
        "colab_type": "text",
        "id": "kOGlxPRBEvV1"
      },
      "source": [
        "## Butun modelin kaydedilmesi\n",
        "\n",
        "Modeller ve en iyilestiricileri bulunduklari durumu (agirliklar ve degiskenler) ve modelin ayarlarinin bulundugun bir dosyaya kaydedilebilir. Bu sayede modelinizi orjinal Python kodu olmadan da disari aktarabilirsiniz. Ayrica en iyilestirici durumu kurtarilabilir oldugu icin modelin egitimine kaldiginiz yerden devam edebilirsiniz.\n",
        "\n",
        "Tamamen calisan bir modeli kaydetmek cok kullanislidir-TensorFlow.js'e yukleyip modellerinizi internet tarayicilarinda egitip calistirabilirsiniz ([HDF5](https://js.tensorflow.org/tutorials/import-keras.html), [Saved Model](https://js.tensorflow.org/tutorials/import-saved-model.html)), ya da TensorFlow Lite ile akilli telefonlarinizda kullanabilirsiniz ([HDF5](https://www.tensorflow.org/lite/convert/python_api#exporting_a_tfkeras_file_), [Saved Model](https://www.tensorflow.org/lite/convert/python_api#exporting_a_savedmodel_))"
      ]
    },
    {
      "cell_type": "markdown",
      "metadata": {
        "colab_type": "text",
        "id": "SkGwf-50zLNn"
      },
      "source": [
        "### Modelinizin HDF5 dosyasi olarak kaydedilmesi\n",
        "\n",
        "Keras modelinizi [HDF5](https://en.wikipedia.org/wiki/Hierarchical_Data_Format) standardinda kaydetmenizi de saglar. Burdaki amacimiz icin kaydedilen modelimize tek bir ikili kutle olarak davranabiliriz:"
      ]
    },
    {
      "cell_type": "code",
      "metadata": {
        "colab_type": "code",
        "id": "m2dkmJVCGUia",
        "colab": {}
      },
      "source": [
        "# Yeni bir model olusturalim\n",
        "model = create_model()\n",
        "\n",
        "# Modeli egitelim\n",
        "model.fit(train_images, train_labels, epochs=5)\n",
        "\n",
        "# Butun modeli HDF5 dosyasina kaydedelim\n",
        "model.save('my_model.h5')"
      ],
      "execution_count": 0,
      "outputs": []
    },
    {
      "cell_type": "markdown",
      "metadata": {
        "colab_type": "text",
        "id": "GWmttMOqS68S"
      },
      "source": [
        "Simdi modeli bu dosyadan yeniden yaratalim:"
      ]
    },
    {
      "cell_type": "code",
      "metadata": {
        "colab_type": "code",
        "id": "5NDMO_7kS6Do",
        "colab": {}
      },
      "source": [
        "# Ayni modeli agirliklari ve en iyilestiricisi ile yeniden yaratalim\n",
        "new_model = keras.models.load_model('my_model.h5')\n",
        "\n",
        "# Modelin yapisini gosterelim\n",
        "new_model.summary()"
      ],
      "execution_count": 0,
      "outputs": []
    },
    {
      "cell_type": "markdown",
      "metadata": {
        "colab_type": "text",
        "id": "JXQpbTicTBwt"
      },
      "source": [
        "Dogrulugunu kontrol edelim:"
      ]
    },
    {
      "cell_type": "code",
      "metadata": {
        "colab_type": "code",
        "id": "jwEaj9DnTCVA",
        "colab": {}
      },
      "source": [
        "loss, acc = new_model.evaluate(test_images, test_labels)\n",
        "print(\"Restored model, accuracy: {:5.2f}%\".format(100*acc))"
      ],
      "execution_count": 0,
      "outputs": []
    },
    {
      "cell_type": "markdown",
      "metadata": {
        "colab_type": "text",
        "id": "dGXqd4wWJl8O"
      },
      "source": [
        "Bu yontemle her seyi kaydedebiliriz:\n",
        "\n",
        "* Agirlik degerlerini\n",
        "* Modelin ayarlarini (yapisini)\n",
        "* En iyilestiricinin ayarlarini\n",
        "\n",
        "Keras modelin yapisini inceleyerek kaydeder. Su anda TensorFlow en iyilestiricilerini (`tf.train`) kaydetme kapasitesine sahip degildir. Bunlari kullanirken modeli yukledikten sonra yeniden derlemeniz gerekir ve en iyilestiricinin durumunu kaybedersiniz.\n"
      ]
    },
    {
      "cell_type": "markdown",
      "metadata": {
        "colab_type": "text",
        "id": "kPyhgcoVzqUB"
      },
      "source": [
        "### `saved_model` olarak"
      ]
    },
    {
      "cell_type": "markdown",
      "metadata": {
        "colab_type": "text",
        "id": "LtcN4VIb7JkK"
      },
      "source": [
        "Dikkat:`tf.keras` modelin bu sekilde kaydedilmesi deneyseldir ve gelecekte degisebilir.\n",
        "\n",
        "Modeli olusturun ve egitin:"
      ]
    },
    {
      "cell_type": "code",
      "metadata": {
        "colab_type": "code",
        "id": "sI1YvCDFzpl3",
        "colab": {}
      },
      "source": [
        "model = create_model()\n",
        "\n",
        "model.fit(train_images, train_labels, epochs=5)"
      ],
      "execution_count": 0,
      "outputs": []
    },
    {
      "cell_type": "markdown",
      "metadata": {
        "colab_type": "text",
        "id": "iUvT_3qE8hV5"
      },
      "source": [
        "`saved_model` olusturalim ve `tf.keras.experimental.export_saved_model` kullanarak zaman damgali bir dizine yerlestirelim:"
      ]
    },
    {
      "cell_type": "code",
      "metadata": {
        "colab_type": "code",
        "id": "sq8fPglI1RWA",
        "colab": {}
      },
      "source": [
        "import time\n",
        "saved_model_path = \"./saved_models/{}\".format(int(time.time()))\n",
        "\n",
        "tf.keras.experimental.export_saved_model(model, saved_model_path)\n",
        "saved_model_path"
      ],
      "execution_count": 0,
      "outputs": []
    },
    {
      "cell_type": "markdown",
      "metadata": {
        "colab_type": "text",
        "id": "MjpmyPfh8-1n"
      },
      "source": [
        "Kaydedilen modelleri listeleyelim:"
      ]
    },
    {
      "cell_type": "code",
      "metadata": {
        "colab_type": "code",
        "id": "ZtOvxA7V0iTv",
        "colab": {}
      },
      "source": [
        "!ls saved_models/"
      ],
      "execution_count": 0,
      "outputs": []
    },
    {
      "cell_type": "markdown",
      "metadata": {
        "colab_type": "text",
        "id": "B7qfpvpY9HCe"
      },
      "source": [
        "Kaydedilen modellerden yeni bir Keras modeli yukleyelim:"
      ]
    },
    {
      "cell_type": "code",
      "metadata": {
        "colab_type": "code",
        "id": "0YofwHdN0pxa",
        "colab": {}
      },
      "source": [
        "new_model = tf.keras.experimental.load_from_saved_model(saved_model_path)\n",
        "\n",
        "# Modelin yapisina goz atalim\n",
        "new_model.summary()"
      ],
      "execution_count": 0,
      "outputs": []
    },
    {
      "cell_type": "markdown",
      "metadata": {
        "colab_type": "text",
        "id": "uWwgNaz19TH2"
      },
      "source": [
        "Yeniden yuklenen model ile bir tahmin yurutelim:"
      ]
    },
    {
      "cell_type": "code",
      "metadata": {
        "colab_type": "code",
        "id": "Yh5Mu0yOgE5J",
        "colab": {}
      },
      "source": [
        "model.predict(test_images).shape"
      ],
      "execution_count": 0,
      "outputs": []
    },
    {
      "cell_type": "code",
      "metadata": {
        "colab_type": "code",
        "id": "Pc9e6G6w1AWG",
        "colab": {}
      },
      "source": [
        "# Model degerlendirme oncesinde derlenmelidir.\n",
        "# Eger modeliniz sadece dagitiliyorsa bu isleme gerek yoktur.\n",
        "\n",
        "new_model.compile(optimizer=model.optimizer,  # Keep the optimizer that was loaded\n",
        "                  loss='sparse_categorical_crossentropy', \n",
        "                  metrics=['accuracy'])\n",
        "\n",
        "# Yeniden yuklenen modeli degerlendirelim\n",
        "loss, acc = new_model.evaluate(test_images, test_labels)\n",
        "print(\"Restored model, accuracy: {:5.2f}%\".format(100*acc))"
      ],
      "execution_count": 0,
      "outputs": []
    }
  ]
}