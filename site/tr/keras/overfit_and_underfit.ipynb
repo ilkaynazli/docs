{
  "cells": [
    {
      "cell_type": "markdown",
      "metadata": {
        "colab_type": "text",
        "id": "fTFj8ft5dlbS"
      },
      "source": [
        "##### Copyright 2018 The TensorFlow Authors."
      ]
    },
    {
      "cell_type": "code",
      "execution_count": 0,
      "metadata": {
        "cellView": "form",
        "colab": {},
        "colab_type": "code",
        "id": "lzyBOpYMdp3F"
      },
      "outputs": [],
      "source": [
        "#@title Licensed under the Apache License, Version 2.0 (the \"License\");\n",
        "# you may not use this file except in compliance with the License.\n",
        "# You may obtain a copy of the License at\n",
        "#\n",
        "# https://www.apache.org/licenses/LICENSE-2.0\n",
        "#\n",
        "# Unless required by applicable law or agreed to in writing, software\n",
        "# distributed under the License is distributed on an \"AS IS\" BASIS,\n",
        "# WITHOUT WARRANTIES OR CONDITIONS OF ANY KIND, either express or implied.\n",
        "# See the License for the specific language governing permissions and\n",
        "# limitations under the License."
      ]
    },
    {
      "cell_type": "code",
      "execution_count": 0,
      "metadata": {
        "cellView": "form",
        "colab": {},
        "colab_type": "code",
        "id": "m_x4KfSJ7Vt7"
      },
      "outputs": [],
      "source": [
        "#@title MIT License\n",
        "#\n",
        "# Copyright (c) 2017 François Chollet\n",
        "#\n",
        "# Permission is hereby granted, free of charge, to any person obtaining a\n",
        "# copy of this software and associated documentation files (the \"Software\"),\n",
        "# to deal in the Software without restriction, including without limitation\n",
        "# the rights to use, copy, modify, merge, publish, distribute, sublicense,\n",
        "# and/or sell copies of the Software, and to permit persons to whom the\n",
        "# Software is furnished to do so, subject to the following conditions:\n",
        "#\n",
        "# The above copyright notice and this permission notice shall be included in\n",
        "# all copies or substantial portions of the Software.\n",
        "#\n",
        "# THE SOFTWARE IS PROVIDED \"AS IS\", WITHOUT WARRANTY OF ANY KIND, EXPRESS OR\n",
        "# IMPLIED, INCLUDING BUT NOT LIMITED TO THE WARRANTIES OF MERCHANTABILITY,\n",
        "# FITNESS FOR A PARTICULAR PURPOSE AND NONINFRINGEMENT. IN NO EVENT SHALL\n",
        "# THE AUTHORS OR COPYRIGHT HOLDERS BE LIABLE FOR ANY CLAIM, DAMAGES OR OTHER\n",
        "# LIABILITY, WHETHER IN AN ACTION OF CONTRACT, TORT OR OTHERWISE, ARISING\n",
        "# FROM, OUT OF OR IN CONNECTION WITH THE SOFTWARE OR THE USE OR OTHER\n",
        "# DEALINGS IN THE SOFTWARE."
      ]
    },
    {
      "cell_type": "markdown",
      "metadata": {
        "colab_type": "text",
        "id": "C9HmC2T4ld5B"
      },
      "source": [
        "# Asiri uyum ve uyumsuzlugu inceleyelim "
      ]
    },
    {
      "cell_type": "markdown",
      "metadata": {
        "colab_type": "text",
        "id": "kRTxFhXAlnl1"
      },
      "source": [
        "\u003ctable class=\"tfo-notebook-buttons\" align=\"left\"\u003e\n",
        "  \u003ctd\u003e\n",
        "    \u003ca target=\"_blank\" href=\"https://www.tensorflow.org/tutorials/keras/overfit_and_underfit\"\u003e\u003cimg src=\"https://www.tensorflow.org/images/tf_logo_32px.png\" /\u003eView on TensorFlow.org\u003c/a\u003e\n",
        "  \u003c/td\u003e\n",
        "  \u003ctd\u003e\n",
        "    \u003ca target=\"_blank\" href=\"https://colab.research.google.com/github/tensorflow/docs/blob/master/site/en/tutorials/keras/overfit_and_underfit.ipynb\"\u003e\u003cimg src=\"https://www.tensorflow.org/images/colab_logo_32px.png\" /\u003eRun in Google Colab\u003c/a\u003e\n",
        "  \u003c/td\u003e\n",
        "  \u003ctd\u003e\n",
        "    \u003ca target=\"_blank\" href=\"https://github.com/tensorflow/docs/blob/master/site/en/tutorials/keras/overfit_and_underfit.ipynb\"\u003e\u003cimg src=\"https://www.tensorflow.org/images/GitHub-Mark-32px.png\" /\u003eView source on GitHub\u003c/a\u003e\n",
        "  \u003c/td\u003e\n",
        "  \u003ctd\u003e\n",
        "    \u003ca href=\"https://storage.googleapis.com/tensorflow_docs/docs/site/en/tutorials/keras/overfit_and_underfit.ipynb\"\u003e\u003cimg src=\"https://www.tensorflow.org/images/download_logo_32px.png\" /\u003eDownload notebook\u003c/a\u003e\n",
        "  \u003c/td\u003e\n",
        "\u003c/table\u003e"
      ]
    },
    {
      "cell_type": "markdown",
      "metadata": {
        "colab_type": "text",
        "id": "19rPukKZsPG6"
      },
      "source": [
        "Her zamanki gibi bu ornekteki kod `tf.keras` API'si kullaniyor, bu konu ile ilgili daha cok bilgiyi [burada bulabilirsiniz](https://www.tensorflow.org/guide/keras).\n",
        "\n",
        "Onceki orneklerde-film yorumlarini siniflandirma ve yakit verimliligi tahminlerinde—belli bir egitim devrinden sonra modelin dogruluk degerinin en ust seviyeye ulastigini ve daha sonra da dustugunu gorduk.\n",
        "\n",
        "Diger bir degisle, modelimiz egitim verisine *asiri uyum* gostermistir. Asiri uyumla bas cikmayi ogrenmek onemlidir. *Egitim setinde* yuksek dogruluk degerlerini yakalamak cogunlukla mumkundur, ama bizim istedigimiz *test setinde* yani modelin daha once hic gormedigi verilerde genel olarak dogru degerler tahmin etmesidir.\n",
        "\n",
        "Asiri uyumun tersi *uyumsuzluktur*. Test verisinde daha iyilestirme yapilabiliyorsa uyumsuzluk var demektir. Bunun birden fazla sebebi olabilir: Model yeteri kadar guclu degildir, ya da gereginden fazla kontroller eklenmistir, ya da yeteri kadar uzun sure egitilmemisitr. Agin egitim verisi ustundeki ilgili desenleri ogrenemedigi anlamina gelir.\n",
        "\n",
        "Modeli cok uzun sure egitirseniz de model test verisine uygulanamayan, egitim verisine ozgu desenleri ogrenir ve asiri uyum durumu ortaya cikar. Bu nedenle dengeyi bulmamiz gerekir. Modelimizi uygun sayida devir kadar egitmegi anlamak faydali bir beceridir.\n",
        "\n",
        "Asiri uyumu engellemenin en iyi yolu daha cok egitim verisi kullanmaktir. Daha fazla veri ile egitilen bir model genellemelerde daha basarilidir. Her zaman daha fazla egitim verisi bulmak mumkun degildir. Bu durumda en iyi cozum duzenlemeler gibi teknikler kullanmaktir. Bunlar modelin kaydedebildigi bilginin tipini ve boyutunu sinirlar. Eger model sadece belli bir sayida deseni ezberleyebiliyorsa, eniyilestirme islemi modeli daha one cikan desenlere odaklanmasini saglar. Bu desenlerin genellenebilmesi daha basarilidir.\n",
        "\n",
        "Bu kitapcikta, iki yaygin duzenleme teknigini-agirlik duzenlemesi ve dusme—inceleyecegiz ve onlari IMDB film yorumu siniflandirmasini iyilestirmek icin kullanacagiz."
      ]
    },
    {
      "cell_type": "code",
    
      "source": [
        "from __future__ import absolute_import, division, print_function, unicode_literals\n",
        "\n",
        "try:\n",  "execution_count": 0,
      "metadata": {
        "colab": {},
        "colab_type": "code",
        "id": "5pZ8A2liqvgk"
      },
      "outputs": [],
        "  # %tensorflow_version sadece Colab'ta bulunur.\n",
        "  %tensorflow_version 2.x\n",
        "except Exception:\n",
        "  pass\n",
        "import tensorflow as tf\n",
        "from tensorflow import keras\n",
        "\n",
        "import numpy as np\n",
        "import matplotlib.pyplot as plt\n",
        "\n",
        "print(tf.__version__)"
      ]
    },
    {
      "cell_type": "markdown",
      "metadata": {
        "colab_type": "text",
        "id": "1cweoTiruj8O"
      },
      "source": [
        "## IMDB veri setini indirelim\n",
        "\n",
        "Bir onceki kitapciktaki gommeyi kullanmak yerine, burada cumleleri coklu-sicak kodlayacagiz. Bu model hizli bir sekilde egitim setine asiri uyum gosterecektir. Asiri uyumun nasil olustugunun bir ornegi olacak ve onunla nasil savasacagimizi gosterecektir.\n",
        "\n",
        "Listelerimizi coklu-sicak kodlama onlari 0 ve 1'den olusan yoneylere donusturmektir. Ornegin, bu `[3, 5]` dizisinin sadece 3. ve 5. dizinlerinde 1 olan ve geri kalani 0'dan olusan 10,000 boyutlu bir yoneye donusturulmesidir."
      ]
    },
    {
      "cell_type": "code",
      "execution_count": 0,
      "metadata": {
        "colab": {},
        "colab_type": "code",
        "id": "QpzE4iqZtJly"
      },
      "outputs": [],
      "source": [
        "NUM_WORDS = 10000\n",
        "\n",
        "(train_data, train_labels), (test_data, test_labels) = keras.datasets.imdb.load_data(num_words=NUM_WORDS)\n",
        "\n",
        "def multi_hot_sequences(sequences, dimension):\n",
        "    # Her elemani 0 olan (len(sequences), dimension) seklinde bir matris olusturun \n",
        "    results = np.zeros((len(sequences), dimension))\n",
        "    for i, word_indices in enumerate(sequences):\n",
        "        results[i, word_indices] = 1.0  # set specific indices of results[i] to 1s\n",
        "    return results\n",
        "\n",
        "\n",
        "train_data = multi_hot_sequences(train_data, dimension=NUM_WORDS)\n",
        "test_data = multi_hot_sequences(test_data, dimension=NUM_WORDS)"
      ]
    },
    {
      "cell_type": "markdown",
      "metadata": {
        "colab_type": "text",
        "id": "MzWVeXe3NBTn"
      },
      "source": [
        "Olusan coklu-sicak yoneylerden birine goz atalim. Kelime dizinleri frekanslarina gore siralanmistir, bu nedenle, asagidaki sekilde gordugumuz gibi, sifir dizinine yakin elemanlarda daha cok 1-degerleri gormegi bekleriz:"
      ]
    },
    {
      "cell_type": "code",
      "execution_count": 0,
      "metadata": {
        "colab": {},
        "colab_type": "code",
        "id": "71kr5rG4LkGM"
      },
      "outputs": [],
      "source": [
        "plt.plot(train_data[0])"
      ]
    },
    {
      "cell_type": "markdown",
      "metadata": {
        "colab_type": "text",
        "id": "lglk41MwvU5o"
      },
      "source": [
        "## Asiri uyumu gosterelim\n",
        "\n",
        "Asiri uyumu engellemenin en basit yolu modelin boyutunu kucultmektir, yani katmanlar ve katmanlar icindeki birimler tarafindan belirlenen ogrenebilinen degistirgelerin sayilarinin azaltilmasidir. Derin ogrenmede, ogrenebilinen degistirgelerin sayisi o modelin \"kapasitesi\" olarak tanimlanir. Dogal olarak, daha cok degistirgeli bir model daha buyuk bir \"hafiza kapasitesine\" sahip olacaktir ve bu sebeple model egitim verisi ile etiketleri arasina mukemmel sozluk benzeri bir eslesme ogrenecektir. Bu tarz bir eslesmenin genelleme gucu yoktur ve daha once gormedigi verilerle tahmin uretirken faydasiz olacaktir.\n",
        "\n",
        "Her zaman bunu aklinizda tutun: derin ogrenme modelleri egitim verisine uymakta iyi olurlar, fakat asil sorun genellemedir uyum degil.\n",
        "\n",
        "Ancak, model kisitli hafiza kaynaklarina sahipse eslesmeleri ogrenmesi zor olacaktir. Kaybi en aza indirgemek icinse daha cok tahmin gucune sahip olabilmek icin sikistirilmis gosterimleri ogrencektir. Ayni zamanda modeli cok kucuk yaparsaniz egitim verisine uyum saglamakta gucluk cekecektir.  \"Cok fazla kapasite\" ve \"yetmeyen kapasite\" arasinda bir denge bulunmaktadir.\n",
        "\n",
        "Maalesef, modelin dogru boyutunu ya da mimarisini (katman sayisi ve katmanlarin boyutu anlaminda) belirleten mucizevi bir formul yoktur. Birkac mimariyi deneyerek uygun yapiya ulasabilirsiniz.\n",
        "\n",
        "Uygun model boyutunu bulmak icin, az sayida katman ve degistirgeyle baslamak, sonrasinda da dogrulama kaybinda azalan sonuclar gorene kadar katman boyutunu artirarak ya da yeni katman ekleyerek modelimizi ayarlamak en iyi yontemdir. Simdi bunu film yorumu siniflandirma aginda deneyelim.\n",
        "\n",
        "Taban modeli olarak sadece  ```Dense``` katmanlar kullanarak basit bir model olusturacagiz, daha sonra da daha kucuk ve buyuk versiyonlarini olusturup karsilastiracagiz."
      ]
    },
    {
      "cell_type": "markdown",
      "metadata": {
        "colab_type": "text",
        "id": "_ReKHdC2EgVu"
      },
      "source": [
        "### Taban modelini olusturalim"
      ]
    },
    {
      "cell_type": "code",
      "execution_count": 0,
      "metadata": {
        "colab": {},
        "colab_type": "code",
        "id": "QKgdXPx9usBa"
      },
      "outputs": [],
      "source": [
        "baseline_model = keras.Sequential([\n",
        "    # `.summary`nin calismasi icin `input_shape` gereklidir.\n",
        "    keras.layers.Dense(16, activation='relu', input_shape=(NUM_WORDS,)),\n",
        "    keras.layers.Dense(16, activation='relu'),\n",
        "    keras.layers.Dense(1, activation='sigmoid')\n",
        "])\n",
        "\n",
        "baseline_model.compile(optimizer='adam',\n",
        "                       loss='binary_crossentropy',\n",
        "                       metrics=['accuracy', 'binary_crossentropy'])\n",
        "\n",
        "baseline_model.summary()"
      ]
    },
    {
      "cell_type": "code",
      "execution_count": 0,
      "metadata": {
        "colab": {},
        "colab_type": "code",
        "id": "LqG3MXF5xSjR"
      },
      "outputs": [],
      "source": [
        "baseline_history = baseline_model.fit(train_data,\n",
        "                                      train_labels,\n",
        "                                      epochs=20,\n",
        "                                      batch_size=512,\n",
        "                                      validation_data=(test_data, test_labels),\n",
        "                                      verbose=2)"
      ]
    },
    {
      "cell_type": "markdown",
      "metadata": {
        "colab_type": "text",
        "id": "L-DGRBbGxI6G"
      },
      "source": [
        "### Daha kucuk  bir model olusturalim"
      ]
    },
    {
      "cell_type": "markdown",
      "metadata": {
        "colab_type": "text",
        "id": "SrfoVQheYSO5"
      },
      "source": [
        "Daha az sakli birimleri olan bir model olusturup onu taban modelimiz ile karsilastiralim:"
      ]
    },
    {
      "cell_type": "code",
      "execution_count": 0,
      "metadata": {
        "colab": {},
        "colab_type": "code",
        "id": "jksi-XtaxDAh"
      },
      "outputs": [],
      "source": [
        "smaller_model = keras.Sequential([\n",
        "    keras.layers.Dense(4, activation='relu', input_shape=(NUM_WORDS,)),\n",
        "    keras.layers.Dense(4, activation='relu'),\n",
        "    keras.layers.Dense(1, activation='sigmoid')\n",
        "])\n",
        "\n",
        "smaller_model.compile(optimizer='adam',\n",
        "                      loss='binary_crossentropy',\n",
        "                      metrics=['accuracy', 'binary_crossentropy'])\n",
        "\n",
        "smaller_model.summary()"
      ]
    },
    {
      "cell_type": "markdown",
      "metadata": {
        "colab_type": "text",
        "id": "jbngCZliYdma"
      },
      "source": [
        "Ve ayni verileri kullanarak modeli egitelim:"
      ]
    },
    {
      "cell_type": "code",
      "execution_count": 0,
      "metadata": {
        "colab": {},
        "colab_type": "code",
        "id": "Ofn1AwDhx-Fe"
      },
      "outputs": [],
      "source": [
        "smaller_history = smaller_model.fit(train_data,\n",
        "                                    train_labels,\n",
        "                                    epochs=20,\n",
        "                                    batch_size=512,\n",
        "                                    validation_data=(test_data, test_labels),\n",
        "                                    verbose=2)"
      ]
    },
    {
      "cell_type": "markdown",
      "metadata": {
        "colab_type": "text",
        "id": "vIPuf23FFaVn"
      },
      "source": [
        "### Daha buyuk bir model olusturalim\n",
        "\n",
        "Alistirma olarak daha da buyuk bir model olusturup ne kadar hizli asiri uyum gosterdigini gozlemleyebilirsiniz.  Simdi, kiyaslamak icin problemin ihtiyaci oldugundan daha cok kapasitesi olan bir ag olusturalim:"
      ]
    },
    {
      "cell_type": "code",
      "execution_count": 0,
      "metadata": {
        "colab": {},
        "colab_type": "code",
        "id": "ghQwwqwqvQM9"
      },
      "outputs": [],
      "source": [
        "bigger_model = keras.models.Sequential([\n",
        "    keras.layers.Dense(512, activation='relu', input_shape=(NUM_WORDS,)),\n",
        "    keras.layers.Dense(512, activation='relu'),\n",
        "    keras.layers.Dense(1, activation='sigmoid')\n",
        "])\n",
        "\n",
        "bigger_model.compile(optimizer='adam',\n",
        "                     loss='binary_crossentropy',\n",
        "                     metrics=['accuracy','binary_crossentropy'])\n",
        "\n",
        "bigger_model.summary()"
      ]
    },
    {
      "cell_type": "markdown",
      "metadata": {
        "colab_type": "text",
        "id": "D-d-i5DaYmr7"
      },
      "source": [
        "Yeniden aynit verilerle egitelim:"
      ]
    },
    {
      "cell_type": "code",
      "execution_count": 0,
      "metadata": {
        "colab": {},
        "colab_type": "code",
        "id": "U1A99dhqvepf"
      },
      "outputs": [],
      "source": [
        "bigger_history = bigger_model.fit(train_data, train_labels,\n",
        "                                  epochs=20,\n",
        "                                  batch_size=512,\n",
        "                                  validation_data=(test_data, test_labels),\n",
        "                                  verbose=2)"
      ]
    },
    {
      "cell_type": "markdown",
      "metadata": {
        "colab_type": "text",
        "id": "Fy3CMUZpzH3d"
      },
      "source": [
        "### Egitim ve dogrulama kayiplarini gosterelim\n",
        "\n",
        "\u003c!--TODO(markdaoust): This should be a one-liner with tensorboard --\u003e"
      ]
    },
    {
      "cell_type": "markdown",
      "metadata": {
        "colab_type": "text",
        "id": "HSlo1F4xHuuM"
      },
      "source": [
        "Duz cizgiler egitim kaybini, aralikli cizgilerse dogrulama kaybini gosterir (daha dusuk bir dogrulama kaybi daha iyi bir model demektir). Burada, kucuk modelin asiri uyuma taban modelinden daha sonra basladigini goruyoruz ve asiri uyumun gorulmesinden sonra veriminin dususu daha yavastir."
      ]
    },
    {
      "cell_type": "code",
      "execution_count": 0,
      "metadata": {
        "colab": {},
        "colab_type": "code",
        "id": "0XmKDtOWzOpk"
      },
      "outputs": [],
      "source": [
        "def plot_history(histories, key='binary_crossentropy'):\n",
        "  plt.figure(figsize=(16,10))\n",
        "\n",
        "  for name, history in histories:\n",
        "    val = plt.plot(history.epoch, history.history['val_'+key],\n",
        "                   '--', label=name.title()+' Val')\n",
        "    plt.plot(history.epoch, history.history[key], color=val[0].get_color(),\n",
        "             label=name.title()+' Train')\n",
        "\n",
        "  plt.xlabel('Epochs')\n",
        "  plt.ylabel(key.replace('_',' ').title())\n",
        "  plt.legend()\n",
        "\n",
        "  plt.xlim([0,max(history.epoch)])\n",
        "\n",
        "\n",
        "plot_history([('baseline', baseline_history),\n",
        "              ('smaller', smaller_history),\n",
        "              ('bigger', bigger_history)])"
      ]
    },
    {
      "cell_type": "markdown",
      "metadata": {
        "colab_type": "text",
        "id": "Bi6hBhdnSfjA"
      },
      "source": [
        "Daha buyuk olan ag ise asiri uyuma hemen basliyor, sadece bir devir sonrasinda. Bir modelin kapasitesi ne kadar buyukse egitim verisini o kadar cabuk cozer (egitim kaybini dusuk tutarak), fakat asiri uyuma da daha yatkinlik gosterir (egitim kaybi ile dogrulama kaybi arasindaki fark cok buyuktur)."
      ]
    },
    {
      "cell_type": "markdown",
      "metadata": {
        "colab_type": "text",
        "id": "ASdv7nsgEFhx"
      },
      "source": [
        "## Asiri uyumu engelleme taktikleri"
      ]
    },
    {
      "cell_type": "markdown",
      "metadata": {
        "colab_type": "text",
        "id": "4rHoVWcswFLa"
      },
      "source": [
        "### Agirilik duzenlemeleri ekleyin\n",
        "\n"
      ]
    },
    {
      "cell_type": "markdown",
      "metadata": {
        "colab_type": "text",
        "id": "kRxWepNawbBK"
      },
      "source": [
        "Occam's Razor ilkesi hakkinda bilginiz olabilir: bir sey hakkinda iki aciklama var ise, genellikle dogru olan aciklama \"en basit\", en az varsayimda bulunandir. Bu sinir aglari ile ogrenen modeller icin de gecerlidir: elimizdeki egitim verisi ve ag mimarisi ile farkli agirlik setleri (farkli modeller) kullanarak veriyi aciklayabiliriz, ve daha basit modellerin asiri uyum gostermesi daha karmasik modellere gore daha azdir.\n",
        "\n",
        " Bu kosullarda \"basit bir model\" degistirgelerin dagilimi daha az entropi gosteren modeldir (ya da toplamda daha az degistirgeye sahip bir model). Bu nedenle asiri uyumu engellemenin genel bir yolu agirliklarin sadece kucuk degerler almasini mecbur kilarak agin karmasasina kisitlama koymaktir, ki bu agirlik degerlerinin dagilimlarini \"daha duzenli\" yapar. Buna \"agirlik duzenlemesi\" denir, ve buyuk agirliklarla bagdasdirilmis bir bedeli agin kayip fonksiyonuna ekleyerek yapilir. Bu bedel iki cesittir:\n",
        "\n",
        "* [L1 duzenlemesi](https://developers.google.com/machine-learning/glossary/#L1_regularization): eklenen bedel agirliklarin katsayisinin mutlak degeri ile dogru orantilidir (bir diger adiyla agirliklarin \"L1 standardi\".\n",
        "\n",
        "* [L2 duzenlemesi](https://developers.google.com/machine-learning/glossary/#L2_regularization): eklenen bedel agirliklarin katsayisinin karesi ile dogru orantilidir (bir diger adiyla agirliklarin \"L2 standardi\"). L2 duzenlemesi sinir aglari kapsaminda agirlik curumesi olarak da bilinir. Bu isim kafanizi karistirmasin: matematiksel olarak agirlik curumesi L2 duzenlemesi ile birebir aynidir.\n",
        "\n",
        "L1 duzenlemesi agirlik degistirgelerini sifirlamak icin seyreltmeler ekler. L2 duzenlemesi ise onlari seyreltmeden agirlik degistirgelerini cezalandirir—L2'nin yaygin olma sebeblerinden biri budur.\n",
        "\n",
        "Agirlik duzenleyici olusumunu butun katmanlara anahtar degisken olarak vererek `tf.keras`ta agirlik duzenlemesi yapilir. Simdi L2 agirlik duzenlemesini ekleyelim."
      ]
    },
    {
      "cell_type": "code",
      "execution_count": 0,
      "metadata": {
        "colab": {},
        "colab_type": "code",
        "id": "HFGmcwduwVyQ"
      },
      "outputs": [],
      "source": [
        "l2_model = keras.models.Sequential([\n",
        "    keras.layers.Dense(16, kernel_regularizer=keras.regularizers.l2(0.001),\n",
        "                       activation='relu', input_shape=(NUM_WORDS,)),\n",
        "    keras.layers.Dense(16, kernel_regularizer=keras.regularizers.l2(0.001),\n",
        "                       activation='relu'),\n",
        "    keras.layers.Dense(1, activation='sigmoid')\n",
        "])\n",
        "\n",
        "l2_model.compile(optimizer='adam',\n",
        "                 loss='binary_crossentropy',\n",
        "                 metrics=['accuracy', 'binary_crossentropy'])\n",
        "\n",
        "l2_model_history = l2_model.fit(train_data, train_labels,\n",
        "                                epochs=20,\n",
        "                                batch_size=512,\n",
        "                                validation_data=(test_data, test_labels),\n",
        "                                verbose=2)"
      ]
    },
    {
      "cell_type": "markdown",
      "metadata": {
        "colab_type": "text",
        "id": "bUUHoXb7w-_C"
      },
      "source": [
        "```l2(0.001)``` katmandaki agirlik matrisinde bulunan her katsayi ```0.001 * weight_coefficient_value**2``` bedelini agin toplam kaybina eklemek anlamina gelir. Bu ceza degeri sadece egitim sirasinda eklendigi icin agin kaybi egitim sirasinda test zamanina gore daha yuksek olacaktir.\n",
        "\n",
        "L2 duzenleme cezasinin etkisi soyledir:"
      ]
    },
    {
      "cell_type": "code",
      "execution_count": 0,
      "metadata": {
        "colab": {},
        "colab_type": "code",
        "id": "7wkfLyxBZdh_"
      },
      "outputs": [],
      "source": [
        "plot_history([('baseline', baseline_history),\n",
        "              ('l2', l2_model_history)])"
      ]
    },
    {
      "cell_type": "markdown",
      "metadata": {
        "colab_type": "text",
        "id": "Kx1YHMsVxWjP"
      },
      "source": [
        "Gordugunuz gibi, L2 ile duzenlenen model taban modele gore, ayni sayida degistirgelere sahip olmalarina ragmen, asiri uyuma cok daha dayanikli hale gelmistir."
      ]
    },
    {
      "cell_type": "markdown",
      "metadata": {
        "colab_type": "text",
        "id": "HmnBNOOVxiG8"
      },
      "source": [
        "### Add dropout\n",
        "\n",
        "Dropout is one of the most effective and most commonly used regularization techniques for neural networks, developed by Hinton and his students at the University of Toronto. Dropout, applied to a layer, consists of randomly \"dropping out\" (i.e. set to zero) a number of output features of the layer during training. Let's say a given layer would normally have returned a vector [0.2, 0.5, 1.3, 0.8, 1.1] for a given input sample during training; after applying dropout, this vector will have a few zero entries distributed at random, e.g. [0, 0.5,\n",
        "1.3, 0, 1.1]. The \"dropout rate\" is the fraction of the features that are being zeroed-out; it is usually set between 0.2 and 0.5. At test time, no units are dropped out, and instead the layer's output values are scaled down by a factor equal to the dropout rate, so as to balance for the fact that more units are active than at training time.\n",
        "\n",
        "In tf.keras you can introduce dropout in a network via the Dropout layer, which gets applied to the output of layer right before.\n",
        "\n",
        "Let's add two Dropout layers in our IMDB network to see how well they do at reducing overfitting:"
      ]
    },
    {
      "cell_type": "code",
      "execution_count": 0,
      "metadata": {
        "colab": {},
        "colab_type": "code",
        "id": "OFEYvtrHxSWS"
      },
      "outputs": [],
      "source": [
        "dpt_model = keras.models.Sequential([\n",
        "    keras.layers.Dense(16, activation='relu', input_shape=(NUM_WORDS,)),\n",
        "    keras.layers.Dropout(0.5),\n",
        "    keras.layers.Dense(16, activation='relu'),\n",
        "    keras.layers.Dropout(0.5),\n",
        "    keras.layers.Dense(1, activation='sigmoid')\n",
        "])\n",
        "\n",
        "dpt_model.compile(optimizer='adam',\n",
        "                  loss='binary_crossentropy',\n",
        "                  metrics=['accuracy','binary_crossentropy'])\n",
        "\n",
        "dpt_model_history = dpt_model.fit(train_data, train_labels,\n",
        "                                  epochs=20,\n",
        "                                  batch_size=512,\n",
        "                                  validation_data=(test_data, test_labels),\n",
        "                                  verbose=2)"
      ]
    },
    {
      "cell_type": "code",
      "execution_count": 0,
      "metadata": {
        "colab": {},
        "colab_type": "code",
        "id": "SPZqwVchx5xp"
      },
      "outputs": [],
      "source": [
        "plot_history([('baseline', baseline_history),\n",
        "              ('dropout', dpt_model_history)])"
      ]
    },
    {
      "cell_type": "markdown",
      "metadata": {
        "colab_type": "text",
        "id": "gjfnkEeQyAFG"
      },
      "source": [
        "Adding dropout is a clear improvement over the baseline model.\n",
        "\n",
        "To recap: here are the most common ways to prevent overfitting in neural networks:\n",
        "\n",
        "* Get more training data.\n",
        "* Reduce the capacity of the network.\n",
        "* Add weight regularization.\n",
        "* Add dropout.\n",
        "\n",
        "And two important approaches not covered in this guide are data-augmentation and batch normalization."
      ]
    }
  ],
  "metadata": {
    "accelerator": "GPU",
    "colab": {
      "collapsed_sections": [
        "fTFj8ft5dlbS"
      ],
      "name": "overfit_and_underfit.ipynb",
      "private_outputs": true,
      "provenance": [],
      "toc_visible": true,
      "version": "0.3.2"
    },
    "kernelspec": {
      "display_name": "Python 3",
      "name": "python3"
    }
  },
  "nbformat": 4,
  "nbformat_minor": 0
}
